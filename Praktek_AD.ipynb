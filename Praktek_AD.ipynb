{
 "cells": [
  {
   "cell_type": "markdown",
   "id": "c65d0f9a-a5a8-414f-9417-9fae36430172",
   "metadata": {
    "tags": []
   },
   "source": [
    "# Analisis Data"
   ]
  },
  {
   "cell_type": "raw",
   "id": "fccf1985-a92f-4da0-ac45-fe64fbe59838",
   "metadata": {},
   "source": [
    "Oleh : ...."
   ]
  },
  {
   "cell_type": "markdown",
   "id": "824b3935-fc87-4540-85b2-4e2605696674",
   "metadata": {},
   "source": [
    "## Pendahuluan"
   ]
  },
  {
   "cell_type": "markdown",
   "id": "a85c689a-1d73-4ec0-b9f9-a2a275d27153",
   "metadata": {},
   "source": [
    "Seorang guru meneliti korelasi antara lamanya belajar dan nilai tes. Ia mengambil sampel 24 siswa. Data mentah yang terkumpul disimpan di url https://raw.githubusercontent.com/patrahost/waone/master/grades.csv. Kita akan lakukan analisis sederhana dari sudut-pandang guru tersebut."
   ]
  },
  {
   "cell_type": "markdown",
   "id": "764f0d8e-0ab2-4117-b590-daa10c0baf8a",
   "metadata": {},
   "source": [
    "### Hipotesis"
   ]
  },
  {
   "cell_type": "markdown",
   "id": "3f509a2a-941f-4998-a271-afd45cbe01c3",
   "metadata": {},
   "source": [
    "*Hanya siswa yang menghabiskan waktu selama minimal tertentu yang boleh berharap mencapai kelulusan dalam tes*"
   ]
  },
  {
   "cell_type": "markdown",
   "id": "1b04d856-3227-4b40-9f4f-772a4b123c7a",
   "metadata": {},
   "source": [
    "### Teori Singkat"
   ]
  },
  {
   "cell_type": "markdown",
   "id": "af71c5e2-12f3-4a05-8719-6a5af2ba7ba9",
   "metadata": {},
   "source": [
    "**Analisis korelasi linier** digunakan untuk menemukan korelasi antara dua variabel. Korelasi itu dinyatakan dengan *koefisien korelasi (r)*, yang nilainya terletak antara 1 dan -1.\n",
    "\n",
    "* Nilai r = 1 (atau -1) menunjukkan korelasi yang tinggi atau sempurna.\n",
    "* Nilai r sedikitnya 0.6 (atau -0.6) menunjukkan korelasi yang bagus.\n",
    "* Nilai r diluar 1 dan -1 menunjukkan korelasi yang buruk. "
   ]
  },
  {
   "cell_type": "markdown",
   "id": "8ec7b687-5625-454e-923c-c4c5a79d89b0",
   "metadata": {},
   "source": [
    "### Kebutuhan Library"
   ]
  },
  {
   "cell_type": "markdown",
   "id": "ef22a888-35c8-4da3-968e-52e2d18ef9bc",
   "metadata": {},
   "source": [
    "Python membutuhkan library **pandas**, karena di dalamnya berisi fungsi-fungsi yang berkaitan dengan pekerjaan menganalisis data. Silahkan mengimpor library tersebut sebagai **pd** ke dalam notebook."
   ]
  },
  {
   "cell_type": "code",
   "execution_count": null,
   "id": "196e4370-eb14-4604-b24d-b712ed517ca7",
   "metadata": {},
   "outputs": [],
   "source": []
  },
  {
   "cell_type": "markdown",
   "id": "4f9b258c-91b2-4e19-8b49-605ac1725a6e",
   "metadata": {},
   "source": [
    "### Data Mentah (Raw Data)"
   ]
  },
  {
   "cell_type": "markdown",
   "id": "573cdc7e-073d-4755-98aa-2e9156eb63c4",
   "metadata": {},
   "source": [
    "### URL File"
   ]
  },
  {
   "cell_type": "code",
   "execution_count": null,
   "id": "47369bef-7862-4e96-8c55-314a45e328ad",
   "metadata": {},
   "outputs": [],
   "source": []
  },
  {
   "cell_type": "markdown",
   "id": "04996d91-1c79-4bcd-8b43-f0179f841566",
   "metadata": {},
   "source": [
    "### Pembacaan File"
   ]
  },
  {
   "cell_type": "markdown",
   "id": "9506eb82-b969-4515-a813-f79d08439067",
   "metadata": {},
   "source": [
    "Gunakan fungsi **read_csv()**."
   ]
  },
  {
   "cell_type": "code",
   "execution_count": null,
   "id": "36063d81-2fa2-49f4-9465-4188c13eb598",
   "metadata": {},
   "outputs": [],
   "source": []
  },
  {
   "cell_type": "markdown",
   "id": "0fa55aee-bb2e-403a-9e68-c8dd05a9bee8",
   "metadata": {},
   "source": [
    "### Menampilkan Data Mentah"
   ]
  },
  {
   "cell_type": "markdown",
   "id": "353053a6-56b1-4d9c-af75-cab10a656aaf",
   "metadata": {},
   "source": [
    "Gunakan fungsi **print()**."
   ]
  },
  {
   "cell_type": "code",
   "execution_count": null,
   "id": "5f72fe92-aeef-49d5-92ad-0cb04e879649",
   "metadata": {},
   "outputs": [],
   "source": []
  },
  {
   "cell_type": "markdown",
   "id": "c124aac0-d46d-4664-b2a6-42efd80967a6",
   "metadata": {},
   "source": [
    "## Data Cleansing"
   ]
  },
  {
   "cell_type": "markdown",
   "id": "3351619c-cd1d-4b24-9b90-96c746249932",
   "metadata": {},
   "source": [
    "### Memeriksa Data yang Tak Lengkap"
   ]
  },
  {
   "cell_type": "markdown",
   "id": "09b4eeba-c71b-4b45-a1dc-a155060cc2d3",
   "metadata": {},
   "source": [
    "Gunakan fungsi **isnull()** dan **sum()**."
   ]
  },
  {
   "cell_type": "code",
   "execution_count": null,
   "id": "0e0294f7-cae9-4fe7-8853-87819cf5773a",
   "metadata": {},
   "outputs": [],
   "source": []
  },
  {
   "cell_type": "markdown",
   "id": "8ce074e3-2548-4d85-a5d7-81af3cb69e45",
   "metadata": {},
   "source": [
    "### Menghapus Data yang Tak Lengkap "
   ]
  },
  {
   "cell_type": "markdown",
   "id": "f0c14d15-c907-465f-b650-5764ecb49028",
   "metadata": {},
   "source": [
    "Gunakan fungsi **dropna()**."
   ]
  },
  {
   "cell_type": "code",
   "execution_count": null,
   "id": "f53ca9c8-6e67-4e5a-84fa-7a7ee8fb1313",
   "metadata": {},
   "outputs": [],
   "source": []
  },
  {
   "cell_type": "markdown",
   "id": "4371a16d-e04e-451c-9fd7-4d49b663b0d1",
   "metadata": {},
   "source": [
    "Lakukan pemeriksaan lagi untuk memastikan hasilnya."
   ]
  },
  {
   "cell_type": "code",
   "execution_count": null,
   "id": "2ad160b3-74e3-4a0f-97f1-fd0e851e8c1f",
   "metadata": {},
   "outputs": [],
   "source": []
  },
  {
   "cell_type": "markdown",
   "id": "7fd4e395-b1d6-4309-b96d-04087c016450",
   "metadata": {},
   "source": [
    "## Mengeksplorasi Data"
   ]
  },
  {
   "cell_type": "markdown",
   "id": "cde7e98c-94d9-4b38-8994-cb4de1ffc1dd",
   "metadata": {},
   "source": [
    "### Membingkai Data"
   ]
  },
  {
   "cell_type": "markdown",
   "id": "56e5075e-14f7-4a90-ae43-cbdb5c3ff02b",
   "metadata": {},
   "source": [
    "Lakukan pengelompokan data."
   ]
  },
  {
   "cell_type": "code",
   "execution_count": null,
   "id": "cf9f1d33-2ab5-4bfb-a071-0fc60b9713ff",
   "metadata": {},
   "outputs": [],
   "source": []
  },
  {
   "cell_type": "markdown",
   "id": "1a5a2416-4058-4e1e-a027-f914640a755d",
   "metadata": {},
   "source": [
    "Gunakan fungsi **DataFrame()** untuk membingkai data menurut kelompok."
   ]
  },
  {
   "cell_type": "code",
   "execution_count": null,
   "id": "dc6941db-2501-497d-b788-2c9f86381f09",
   "metadata": {},
   "outputs": [],
   "source": []
  },
  {
   "cell_type": "markdown",
   "id": "f767ff62-604f-46d3-8972-9590b7b52db2",
   "metadata": {},
   "source": [
    "Tampilkan data yang telah terbingkai."
   ]
  },
  {
   "cell_type": "markdown",
   "id": "447c436e-c592-4fb7-9e5d-536a00095a75",
   "metadata": {},
   "source": [
    "### Melakukan Analisis Korelasi"
   ]
  },
  {
   "cell_type": "markdown",
   "id": "8bfee86d-76d4-4c05-bc7b-9b314e52dce0",
   "metadata": {},
   "source": [
    "Siapkan kolom-kolom yang akan dilibatkan dalam analisis."
   ]
  },
  {
   "cell_type": "code",
   "execution_count": null,
   "id": "18367147-a726-4d46-bb57-68fbd6256c31",
   "metadata": {},
   "outputs": [],
   "source": []
  },
  {
   "cell_type": "markdown",
   "id": "4bad7b94-ac86-4af1-a846-c97dc76181f4",
   "metadata": {},
   "source": [
    "Gunakan fungsi **corr()** untuk melakukan analisis korelasi."
   ]
  },
  {
   "cell_type": "markdown",
   "id": "03dc6bba-b1dd-4acd-abff-21897ae959a9",
   "metadata": {},
   "source": [
    "### Kesimpulan"
   ]
  },
  {
   "cell_type": "markdown",
   "id": "0199f456-c6a5-43e4-b033-fd294ded9938",
   "metadata": {},
   "source": [
    "Diperoleh koefisien korelasi sebesar...., ini berarti bahwa..."
   ]
  },
  {
   "cell_type": "markdown",
   "id": "bbfcff4b-23aa-4dc4-b48e-e333c2af9cc9",
   "metadata": {},
   "source": [
    "## Visualisasi Data"
   ]
  },
  {
   "cell_type": "markdown",
   "id": "2437769d-7936-4ede-9b9f-7b5c81ca15e3",
   "metadata": {},
   "source": [
    "### Kebutuhan Library"
   ]
  },
  {
   "cell_type": "markdown",
   "id": "6615bbc2-ec72-41c9-a05a-0d28c465c2d1",
   "metadata": {},
   "source": [
    "Mencetak grafik untuk keperluan visualisasi analisis data dapat dilakukan menggunakan modul **pyplot** yang ada di dalam library **matplotlib**. Gunakan modul tersebut sebagai **plt**."
   ]
  },
  {
   "cell_type": "code",
   "execution_count": null,
   "id": "7786ef3c-1a64-46c4-a71e-ea6a70582d1a",
   "metadata": {},
   "outputs": [],
   "source": []
  },
  {
   "cell_type": "markdown",
   "id": "8c986cb7-2520-4277-8424-a16b824d615b",
   "metadata": {},
   "source": [
    "### Siapkan Sumbu X-Y Grafik"
   ]
  },
  {
   "cell_type": "code",
   "execution_count": null,
   "id": "702504e9-de69-40a8-983f-2a8375cffb34",
   "metadata": {},
   "outputs": [],
   "source": []
  },
  {
   "cell_type": "markdown",
   "id": "5b4c70d9-2e6c-4770-a60c-84b6ac0360ae",
   "metadata": {},
   "source": [
    "### Judul Grafik"
   ]
  },
  {
   "cell_type": "code",
   "execution_count": null,
   "id": "039ec3d9-b0a7-4686-ab80-c6cbf6ee1c05",
   "metadata": {},
   "outputs": [],
   "source": []
  },
  {
   "cell_type": "markdown",
   "id": "13315588-d2a7-457e-91df-7ebd8a964fdd",
   "metadata": {},
   "source": [
    "### Label Sumbu Grafik"
   ]
  },
  {
   "cell_type": "code",
   "execution_count": null,
   "id": "decb3dd2-5abd-4475-bdb0-f8d1924f6db3",
   "metadata": {},
   "outputs": [],
   "source": []
  },
  {
   "cell_type": "markdown",
   "id": "b9ae383d-578f-4213-9b4a-09f9b6f1cca6",
   "metadata": {},
   "source": [
    "### Gunakan Grafik Scatter"
   ]
  },
  {
   "cell_type": "code",
   "execution_count": null,
   "id": "35d60a92-fa65-4356-b70e-9c29cd539216",
   "metadata": {},
   "outputs": [],
   "source": []
  },
  {
   "cell_type": "markdown",
   "id": "d1e62ba2-0bb8-4f96-9bdf-40e3f43ef21b",
   "metadata": {},
   "source": [
    "## Analisis Statistik Deskriptif"
   ]
  },
  {
   "cell_type": "markdown",
   "id": "4b809afa-94b7-4c67-9319-0d09d9bcd04c",
   "metadata": {},
   "source": [
    "Gunakan fungsi **describe()** untuk melakukan analisis statistik deskriptif sederhana."
   ]
  },
  {
   "cell_type": "code",
   "execution_count": null,
   "id": "a2100123-b9bf-4dc3-9787-7595930b6aeb",
   "metadata": {},
   "outputs": [],
   "source": []
  },
  {
   "cell_type": "markdown",
   "id": "84937394-b8f2-47a6-b11d-7ce7b27ecd34",
   "metadata": {},
   "source": [
    "Apa yang dapat dijelaskan dari hasil di atas?"
   ]
  },
  {
   "cell_type": "markdown",
   "id": "f26f2373-1b4a-4b0f-85ec-ba3df30a7fd8",
   "metadata": {},
   "source": []
  },
  {
   "cell_type": "markdown",
   "id": "e201b8eb-81f3-4183-b805-ef45785c4747",
   "metadata": {},
   "source": [
    "### Modus"
   ]
  },
  {
   "cell_type": "markdown",
   "id": "fa3e0e69-db42-4392-a371-ae5f8f4beb36",
   "metadata": {},
   "source": [
    "Gunakan fungsi **mode()** untuk mengetahui modus, yaitu nilai yang sering muncul dalam populasi data."
   ]
  },
  {
   "cell_type": "code",
   "execution_count": null,
   "id": "adbd05a1-cc8d-413a-90a1-97b352e09752",
   "metadata": {},
   "outputs": [],
   "source": []
  },
  {
   "cell_type": "markdown",
   "id": "70d77858-3764-4ea8-a710-d8ab18258e20",
   "metadata": {},
   "source": [
    "### Median"
   ]
  },
  {
   "cell_type": "markdown",
   "id": "cd472cbd-a4eb-4c74-9e4f-1242e111f44d",
   "metadata": {},
   "source": [
    "Gunakan fungsi **median()** untuk menghitung median, yaitu nilai tengah dari populasi data setelah populasi tersebut disortir/diurutkan."
   ]
  },
  {
   "cell_type": "code",
   "execution_count": null,
   "id": "8dba04a4-bd3e-415c-aa79-3d96501a33e2",
   "metadata": {},
   "outputs": [],
   "source": []
  },
  {
   "cell_type": "markdown",
   "id": "1f0634fe-286a-487d-9466-46838c44e2a7",
   "metadata": {},
   "source": [
    "## Membuat Histogram"
   ]
  },
  {
   "cell_type": "markdown",
   "id": "4ececb07-654a-43c5-8f51-feef4948c5b0",
   "metadata": {},
   "source": [
    "Histogram menunjukkan representasi visual dari distribusi data. Kita dapat membuat histogram (misalnya untuk nilai tes) dengan menggunakan fungsi **hist()**."
   ]
  },
  {
   "cell_type": "markdown",
   "id": "e4f7390a-2aae-4a70-9c3d-0d2d6253aeb1",
   "metadata": {},
   "source": [
    "Siapkan dulu nilai tesnya : "
   ]
  },
  {
   "cell_type": "code",
   "execution_count": null,
   "id": "dc9fe7c9-45c9-4b4c-8b56-4976f9655915",
   "metadata": {},
   "outputs": [],
   "source": []
  },
  {
   "cell_type": "markdown",
   "id": "02e50e7c-2768-4243-bf7a-382b6b4aa5cc",
   "metadata": {},
   "source": [
    "Gunakan fungsi **hist()** untuk mencetak grafik histogram :"
   ]
  },
  {
   "cell_type": "code",
   "execution_count": null,
   "id": "c3284d08-0376-4b04-920c-984487fdd6b0",
   "metadata": {},
   "outputs": [],
   "source": []
  },
  {
   "cell_type": "markdown",
   "id": "c34944f1-d859-472f-b05b-6d07a8e12975",
   "metadata": {},
   "source": [
    "### Distribusi Normal"
   ]
  },
  {
   "cell_type": "markdown",
   "id": "20b5a68a-6e3b-4bd8-becb-c2993f54d396",
   "metadata": {},
   "source": [
    "Distribusi normal menggambarkan penyebaran data. Distribusi normal ditunjukkan oleh sebuah grafik  simetris yang disebut kurva lonceng (*bell curve*). Distribusi normal tercapai apabila **mean**, **median**, dan **modus** memiliki nilai yang sama atau nyaris sama."
   ]
  }
 ],
 "metadata": {
  "kernelspec": {
   "display_name": "Python 3 (ipykernel)",
   "language": "python",
   "name": "python3"
  },
  "language_info": {
   "codemirror_mode": {
    "name": "ipython",
    "version": 3
   },
   "file_extension": ".py",
   "mimetype": "text/x-python",
   "name": "python",
   "nbconvert_exporter": "python",
   "pygments_lexer": "ipython3",
   "version": "3.9.6"
  }
 },
 "nbformat": 4,
 "nbformat_minor": 5
}
